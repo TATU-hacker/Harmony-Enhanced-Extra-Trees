{
 "cells": [
  {
   "cell_type": "code",
   "execution_count": 14,
   "id": "dfedf27b",
   "metadata": {},
   "outputs": [],
   "source": [
    "import pandas as pd\n",
    "import os"
   ]
  },
  {
   "cell_type": "code",
   "execution_count": 4,
   "id": "3dc6e986",
   "metadata": {},
   "outputs": [],
   "source": [
    "# Assuming you have the path to the folder containing CSV files\n",
    "folder_path = 'C:/Users/GCU/Downloads/CICIoT2023'\n",
    "\n",
    "# List to hold all individual DataFrames\n",
    "dataframes = []\n",
    "\n",
    "# Iterate over each file in the folder\n",
    "for filename in os.listdir(folder_path):\n",
    "    if filename.endswith('.csv'):\n",
    "        file_path = os.path.join(folder_path, filename)\n",
    "        # Read the CSV file, and immediately change float64 columns to float32\n",
    "        df_32 = pd.read_csv(file_path).astype({col: 'float32' for col in pd.read_csv(file_path, nrows=1).select_dtypes(include=['float64']).columns})\n",
    "        dataframes.append(df_32)\n",
    "\n",
    "# Concatenate all the DataFrames into a single DataFrame\n",
    "df = pd.concat(dataframes, ignore_index=True)\n",
    "\n",
    "# Now df contains all the data from the CSV files with float64 columns converted to float32"
   ]
  },
  {
   "cell_type": "code",
   "execution_count": 5,
   "id": "7ffd34ec",
   "metadata": {},
   "outputs": [],
   "source": [
    "for col in df.select_dtypes(include=['object']).columns:\n",
    "    if df[col].nunique() < df.shape[0] * 0.5:  # Threshold for conversion\n",
    "        df[col] = df[col].astype('category')"
   ]
  },
  {
   "cell_type": "code",
   "execution_count": 6,
   "id": "90e3fb28",
   "metadata": {},
   "outputs": [
    {
     "name": "stdout",
     "output_type": "stream",
     "text": [
      "<class 'pandas.core.frame.DataFrame'>\n",
      "RangeIndex: 46686579 entries, 0 to 46686578\n",
      "Data columns (total 47 columns):\n",
      " #   Column           Dtype   \n",
      "---  ------           -----   \n",
      " 0   flow_duration    float32 \n",
      " 1   Header_Length    float32 \n",
      " 2   Protocol Type    float32 \n",
      " 3   Duration         float32 \n",
      " 4   Rate             float32 \n",
      " 5   Srate            float32 \n",
      " 6   Drate            float32 \n",
      " 7   fin_flag_number  float32 \n",
      " 8   syn_flag_number  float32 \n",
      " 9   rst_flag_number  float32 \n",
      " 10  psh_flag_number  float32 \n",
      " 11  ack_flag_number  float32 \n",
      " 12  ece_flag_number  float32 \n",
      " 13  cwr_flag_number  float32 \n",
      " 14  ack_count        float32 \n",
      " 15  syn_count        float32 \n",
      " 16  fin_count        float32 \n",
      " 17  urg_count        float32 \n",
      " 18  rst_count        float32 \n",
      " 19  HTTP             float32 \n",
      " 20  HTTPS            float32 \n",
      " 21  DNS              float32 \n",
      " 22  Telnet           float32 \n",
      " 23  SMTP             float32 \n",
      " 24  SSH              float32 \n",
      " 25  IRC              float32 \n",
      " 26  TCP              float32 \n",
      " 27  UDP              float32 \n",
      " 28  DHCP             float32 \n",
      " 29  ARP              float32 \n",
      " 30  ICMP             float32 \n",
      " 31  IPv              float32 \n",
      " 32  LLC              float32 \n",
      " 33  Tot sum          float32 \n",
      " 34  Min              float32 \n",
      " 35  Max              float32 \n",
      " 36  AVG              float32 \n",
      " 37  Std              float32 \n",
      " 38  Tot size         float32 \n",
      " 39  IAT              float32 \n",
      " 40  Number           float32 \n",
      " 41  Magnitue         float32 \n",
      " 42  Radius           float32 \n",
      " 43  Covariance       float32 \n",
      " 44  Variance         float32 \n",
      " 45  Weight           float32 \n",
      " 46  label            category\n",
      "dtypes: category(1), float32(46)\n",
      "memory usage: 8.0 GB\n"
     ]
    }
   ],
   "source": [
    "df.info()"
   ]
  },
  {
   "cell_type": "code",
   "execution_count": 7,
   "id": "a4c484c5",
   "metadata": {},
   "outputs": [
    {
     "name": "stdout",
     "output_type": "stream",
     "text": [
      "label\n",
      "DDoS-ICMP_Flood            7200504\n",
      "DDoS-UDP_Flood             5412287\n",
      "DDoS-TCP_Flood             4497667\n",
      "DDoS-PSHACK_Flood          4094755\n",
      "DDoS-SYN_Flood             4059190\n",
      "DDoS-RSTFINFlood           4045285\n",
      "DDoS-SynonymousIP_Flood    3598138\n",
      "DoS-UDP_Flood              3318595\n",
      "DoS-TCP_Flood              2671445\n",
      "DoS-SYN_Flood              2028834\n",
      "BenignTraffic              1098195\n",
      "Mirai-greeth_flood          991866\n",
      "Mirai-udpplain              890576\n",
      "Mirai-greip_flood           751682\n",
      "DDoS-ICMP_Fragmentation     452489\n",
      "MITM-ArpSpoofing            307593\n",
      "DDoS-UDP_Fragmentation      286925\n",
      "DDoS-ACK_Fragmentation      285104\n",
      "DNS_Spoofing                178911\n",
      "Recon-HostDiscovery         134378\n",
      "Recon-OSScan                 98259\n",
      "Recon-PortScan               82284\n",
      "DoS-HTTP_Flood               71864\n",
      "VulnerabilityScan            37382\n",
      "DDoS-HTTP_Flood              28790\n",
      "DDoS-SlowLoris               23426\n",
      "DictionaryBruteForce         13064\n",
      "BrowserHijacking              5859\n",
      "CommandInjection              5409\n",
      "SqlInjection                  5245\n",
      "XSS                           3846\n",
      "Backdoor_Malware              3218\n",
      "Recon-PingSweep               2262\n",
      "Uploading_Attack              1252\n",
      "Name: count, dtype: int64\n"
     ]
    }
   ],
   "source": [
    "print(df['label'].value_counts())"
   ]
  },
  {
   "cell_type": "code",
   "execution_count": 8,
   "id": "3bbabff3",
   "metadata": {},
   "outputs": [],
   "source": [
    "# Calculate the percentage of zeros in each column\n",
    "percentage_zeros = (df == 0).mean() * 100\n",
    "\n",
    "# Identify columns where the percentage of zeros is greater than 99%\n",
    "columns_to_drop = percentage_zeros[percentage_zeros > 99].index\n",
    "\n",
    "# Drop these columns from the DataFrame\n",
    "df.drop(columns=columns_to_drop, inplace=True)\n",
    "\n",
    "# df now has the columns removed where more than 99% of the values were zeros"
   ]
  },
  {
   "cell_type": "code",
   "execution_count": 9,
   "id": "e065dd4b",
   "metadata": {},
   "outputs": [
    {
     "data": {
      "text/plain": [
       "flow_duration      0\n",
       "Header_Length      0\n",
       "Protocol Type      0\n",
       "Duration           0\n",
       "Rate               0\n",
       "Srate              0\n",
       "fin_flag_number    0\n",
       "syn_flag_number    0\n",
       "rst_flag_number    0\n",
       "psh_flag_number    0\n",
       "ack_flag_number    0\n",
       "ack_count          0\n",
       "syn_count          0\n",
       "fin_count          0\n",
       "urg_count          0\n",
       "rst_count          0\n",
       "HTTP               0\n",
       "HTTPS              0\n",
       "TCP                0\n",
       "UDP                0\n",
       "ICMP               0\n",
       "IPv                0\n",
       "LLC                0\n",
       "Tot sum            0\n",
       "Min                0\n",
       "Max                0\n",
       "AVG                0\n",
       "Std                0\n",
       "Tot size           0\n",
       "IAT                0\n",
       "Number             0\n",
       "Magnitue           0\n",
       "Radius             0\n",
       "Covariance         0\n",
       "Variance           0\n",
       "Weight             0\n",
       "label              0\n",
       "dtype: int64"
      ]
     },
     "execution_count": 9,
     "metadata": {},
     "output_type": "execute_result"
    }
   ],
   "source": [
    "df.isnull().sum()"
   ]
  },
  {
   "cell_type": "code",
   "execution_count": 10,
   "id": "2d03b364",
   "metadata": {},
   "outputs": [],
   "source": [
    "df = df.drop_duplicates(keep=\"first\")"
   ]
  },
  {
   "cell_type": "code",
   "execution_count": 11,
   "id": "8d2cb4f3",
   "metadata": {},
   "outputs": [
    {
     "name": "stdout",
     "output_type": "stream",
     "text": [
      "<class 'pandas.core.frame.DataFrame'>\n",
      "Index: 28098546 entries, 0 to 46686577\n",
      "Data columns (total 37 columns):\n",
      " #   Column           Dtype   \n",
      "---  ------           -----   \n",
      " 0   flow_duration    float32 \n",
      " 1   Header_Length    float32 \n",
      " 2   Protocol Type    float32 \n",
      " 3   Duration         float32 \n",
      " 4   Rate             float32 \n",
      " 5   Srate            float32 \n",
      " 6   fin_flag_number  float32 \n",
      " 7   syn_flag_number  float32 \n",
      " 8   rst_flag_number  float32 \n",
      " 9   psh_flag_number  float32 \n",
      " 10  ack_flag_number  float32 \n",
      " 11  ack_count        float32 \n",
      " 12  syn_count        float32 \n",
      " 13  fin_count        float32 \n",
      " 14  urg_count        float32 \n",
      " 15  rst_count        float32 \n",
      " 16  HTTP             float32 \n",
      " 17  HTTPS            float32 \n",
      " 18  TCP              float32 \n",
      " 19  UDP              float32 \n",
      " 20  ICMP             float32 \n",
      " 21  IPv              float32 \n",
      " 22  LLC              float32 \n",
      " 23  Tot sum          float32 \n",
      " 24  Min              float32 \n",
      " 25  Max              float32 \n",
      " 26  AVG              float32 \n",
      " 27  Std              float32 \n",
      " 28  Tot size         float32 \n",
      " 29  IAT              float32 \n",
      " 30  Number           float32 \n",
      " 31  Magnitue         float32 \n",
      " 32  Radius           float32 \n",
      " 33  Covariance       float32 \n",
      " 34  Variance         float32 \n",
      " 35  Weight           float32 \n",
      " 36  label            category\n",
      "dtypes: category(1), float32(36)\n",
      "memory usage: 4.0 GB\n"
     ]
    }
   ],
   "source": [
    "df.info()"
   ]
  },
  {
   "cell_type": "code",
   "execution_count": 12,
   "id": "b794c36e",
   "metadata": {},
   "outputs": [
    {
     "name": "stdout",
     "output_type": "stream",
     "text": [
      "label\n",
      "DDoS-UDP_Flood             5412287\n",
      "DDoS-SynonymousIP_Flood    3065966\n",
      "DoS-UDP_Flood              2959733\n",
      "DDoS-SYN_Flood             1933447\n",
      "DDoS-ICMP_Flood            1809173\n",
      "DoS-TCP_Flood              1778908\n",
      "DDoS-PSHACK_Flood          1647084\n",
      "DoS-SYN_Flood              1629596\n",
      "DDoS-TCP_Flood             1569605\n",
      "BenignTraffic              1098177\n",
      "DDoS-RSTFINFlood           1071959\n",
      "Mirai-udpplain              890576\n",
      "Mirai-greeth_flood          673232\n",
      "Mirai-greip_flood           550402\n",
      "DDoS-ICMP_Fragmentation     443979\n",
      "MITM-ArpSpoofing            307591\n",
      "DDoS-UDP_Fragmentation      286925\n",
      "DDoS-ACK_Fragmentation      274933\n",
      "DNS_Spoofing                178873\n",
      "Recon-HostDiscovery         134345\n",
      "Recon-OSScan                 98112\n",
      "Recon-PortScan               82124\n",
      "DoS-HTTP_Flood               71786\n",
      "VulnerabilityScan            37382\n",
      "DDoS-HTTP_Flood              28772\n",
      "DDoS-SlowLoris               23426\n",
      "DictionaryBruteForce         13064\n",
      "BrowserHijacking              5859\n",
      "CommandInjection              5409\n",
      "SqlInjection                  5245\n",
      "XSS                           3846\n",
      "Backdoor_Malware              3218\n",
      "Recon-PingSweep               2260\n",
      "Uploading_Attack              1252\n",
      "Name: count, dtype: int64\n"
     ]
    }
   ],
   "source": [
    "print(df['label'].value_counts())"
   ]
  },
  {
   "cell_type": "code",
   "execution_count": 13,
   "id": "176e97e9",
   "metadata": {},
   "outputs": [],
   "source": [
    "df.to_csv('C:/Users/GCU/Downloads/ciciot-2023.csv', index=False)"
   ]
  }
 ],
 "metadata": {
  "kaggle": {
   "accelerator": "none",
   "dataSources": [
    {
     "datasetId": 3706998,
     "sourceId": 6425404,
     "sourceType": "datasetVersion"
    }
   ],
   "dockerImageVersionId": 30664,
   "isGpuEnabled": false,
   "isInternetEnabled": true,
   "language": "python",
   "sourceType": "notebook"
  },
  "kernelspec": {
   "display_name": "Python 3 (ipykernel)",
   "language": "python",
   "name": "python3"
  },
  "language_info": {
   "codemirror_mode": {
    "name": "ipython",
    "version": 3
   },
   "file_extension": ".py",
   "mimetype": "text/x-python",
   "name": "python",
   "nbconvert_exporter": "python",
   "pygments_lexer": "ipython3",
   "version": "3.10.13"
  }
 },
 "nbformat": 4,
 "nbformat_minor": 5
}
